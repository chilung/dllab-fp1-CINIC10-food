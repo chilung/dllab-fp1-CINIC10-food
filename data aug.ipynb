{
 "cells": [
  {
   "cell_type": "code",
   "execution_count": 1,
   "metadata": {
    "collapsed": true
   },
   "outputs": [],
   "source": [
    "%matplotlib inline"
   ]
  },
  {
   "cell_type": "code",
   "execution_count": 2,
   "metadata": {
    "collapsed": false
   },
   "outputs": [
    {
     "name": "stdout",
     "output_type": "stream",
     "text": [
      "3.4.3\n"
     ]
    }
   ],
   "source": [
    "import cv2 as cv\n",
    "print(cv.__version__)"
   ]
  },
  {
   "cell_type": "code",
   "execution_count": 3,
   "metadata": {
    "collapsed": true
   },
   "outputs": [],
   "source": [
    "from imgaug import augmenters as iaa\n",
    "import imgaug as ia"
   ]
  },
  {
   "cell_type": "code",
   "execution_count": 4,
   "metadata": {
    "collapsed": true
   },
   "outputs": [],
   "source": [
    "# License: BSD\n",
    "# Author: Sasank Chilamkurthy\n",
    "\n",
    "from __future__ import print_function, division\n",
    "\n",
    "import os\n",
    "from PIL import Image\n",
    "import torch\n",
    "import torch.nn as nn\n",
    "import torch.optim as optim\n",
    "from torch.optim import lr_scheduler\n",
    "import numpy as np\n",
    "import torchvision\n",
    "from torchvision import datasets, models, transforms\n",
    "import matplotlib.pyplot as plt\n",
    "import time\n",
    "import os\n",
    "import copy\n",
    "\n",
    "plt.ion()   # interactive mode"
   ]
  },
  {
   "cell_type": "code",
   "execution_count": 5,
   "metadata": {
    "collapsed": true
   },
   "outputs": [],
   "source": [
    "class ImgAugTransform:\n",
    "    def __init__(self):\n",
    "        self.aug = iaa.Sequential([\n",
    "            iaa.Scale((224, 224)),\n",
    "            iaa.Sometimes(0.25, iaa.GaussianBlur(sigma=(0, 1.3))),\n",
    "            iaa.Fliplr(0.5),\n",
    "            iaa.Affine(rotate=(-15, 15), mode='symmetric'),\n",
    "            iaa.Sometimes(0.10,\n",
    "                          iaa.OneOf([iaa.Dropout(p=(0, 0.03)),\n",
    "                                     iaa.CoarseDropout(0.03, size_percent=0.2)])),\n",
    "            iaa.AddToHueAndSaturation(value=(-20, 20), per_channel=True),\n",
    "            iaa.PiecewiseAffine(),            \n",
    "        ])\n",
    "      \n",
    "    def __call__(self, img):\n",
    "        img = np.array(img)\n",
    "        return self.aug.augment_image(img)"
   ]
  },
  {
   "cell_type": "code",
   "execution_count": 6,
   "metadata": {
    "collapsed": true
   },
   "outputs": [],
   "source": [
    "import matplotlib.pyplot as plt\n",
    "import matplotlib.image as mpimg\n",
    "import numpy as np"
   ]
  },
  {
   "cell_type": "code",
   "execution_count": 7,
   "metadata": {
    "collapsed": true
   },
   "outputs": [],
   "source": [
    "transform_aug = transforms.Compose([\n",
    "    ImgAugTransform(),\n",
    "    lambda x: Image.fromarray(x),\n",
    "    transforms.ToTensor(),\n",
    "])\n",
    "\n",
    "transform_resize_224 = transforms.Compose([\n",
    "    transforms.Resize(224),\n",
    "    transforms.ToTensor(),\n",
    "])"
   ]
  },
  {
   "cell_type": "code",
   "execution_count": 8,
   "metadata": {
    "collapsed": true
   },
   "outputs": [],
   "source": [
    "def img_transform(src_root_path, dest_root_path):\n",
    "    img1 = Image.open(src_root_path).convert('RGB')\n",
    "    img2 = transform_aug(img1)\n",
    "    transforms.ToPILImage()(img2).save(dest_root_path)\n",
    "    \n",
    "def img_transform_224(src_root_path, dest_root_path):\n",
    "    img1 = Image.open(src_root_path).convert('RGB')\n",
    "    img2 = transform_resize_224(img1)\n",
    "    transforms.ToPILImage()(img2).save(dest_root_path)"
   ]
  },
  {
   "cell_type": "code",
   "execution_count": 16,
   "metadata": {
    "collapsed": true
   },
   "outputs": [],
   "source": [
    "count = 0\n",
    "\n",
    "def traverse(src_root_path, dest_root_path, aug=False):\n",
    "    global count\n",
    "    \n",
    "    dirs = os.listdir(src_root_path)\n",
    "    for file in dirs:\n",
    "        src_fullpath = os.path.join(src_root_path, file)\n",
    "        dest_fullpath = os.path.join(dest_root_path, file)\n",
    "        # print(\"src: {}, dest: {}\".format(src_fullpath, dest_fullpath))\n",
    "\n",
    "        if (os.path.isdir(src_fullpath) == True):  \n",
    "            print(\"{} is a directory\".format(src_fullpath)) \n",
    "            traverse(src_fullpath, dest_fullpath)\n",
    "        \n",
    "        elif os.path.isfile(src_fullpath):  \n",
    "            # print(\"{} is a normal file\".format(src_fullpath))\n",
    "            if(aug == True):\n",
    "                for i in range(10):\n",
    "                    filename, file_extension = os.path.splitext(dest_fullpath)\n",
    "                    img_transform(src_fullpath, \"{}_{}{}\".format(filename, i, file_extension))\n",
    "            else:\n",
    "                img_transform_224(src_fullpath, dest_fullpath)\n",
    "               \n",
    "            count += 1\n",
    "            if((count % 20) == 19):\n",
    "                print(\"progress: {}\".format(count+1))\n",
    "        \n",
    "        else:  \n",
    "            print(\"It is a special file (socket, FIFO, device file)\")\n",
    "\n",
    "#traverse(\"../data/cinic10/test\", \"../data/cinic10/test-224\", False)\n",
    "#traverse(\"../data/cinic10/valid\", \"../data/cinic10/valid-224\", False)\n",
    "#traverse(\"../data/cinic10/train\", \"../data/cinic10/aug\", False)\n",
    "\n",
    "#traverse(\"../data/cinic10/train/airplane\", \"../data/cinic10/aug/airplane\", True)\n",
    "#traverse(\"../data/cinic10/train/automobile\", \"../data/cinic10/aug/automobile\", True)\n",
    "#traverse(\"../data/cinic10/train/bird\", \"../data/cinic10/aug/bird\", True)\n",
    "#traverse(\"../data/cinic10/train/cat\", \"../data/cinic10/aug/cat\", True)\n",
    "#traverse(\"../data/cinic10/train/deer\", \"../data/cinic10/aug/deer\", True)\n",
    "#traverse(\"../data/cinic10/train/dog\", \"../data/cinic10/aug/dog\", True)\n",
    "#traverse(\"../data/cinic10/train/frog\", \"../data/cinic10/aug/frog\", True)\n",
    "#traverse(\"../data/cinic10/train/horse\", \"../data/cinic10/aug/horse\", True)\n",
    "#traverse(\"../data/cinic10/train/ship\", \"../data/cinic10/aug/ship\", True)\n",
    "#traverse(\"../data/cinic10/train/truck\", \"../data/cinic10/aug/truck\", True)"
   ]
  },
  {
   "cell_type": "code",
   "execution_count": null,
   "metadata": {
    "collapsed": true
   },
   "outputs": [],
   "source": []
  },
  {
   "cell_type": "code",
   "execution_count": null,
   "metadata": {
    "collapsed": true
   },
   "outputs": [],
   "source": []
  }
 ],
 "metadata": {
  "anaconda-cloud": {},
  "kernelspec": {
   "display_name": "Python [default]",
   "language": "python",
   "name": "python3"
  },
  "language_info": {
   "codemirror_mode": {
    "name": "ipython",
    "version": 3
   },
   "file_extension": ".py",
   "mimetype": "text/x-python",
   "name": "python",
   "nbconvert_exporter": "python",
   "pygments_lexer": "ipython3",
   "version": "3.5.2"
  }
 },
 "nbformat": 4,
 "nbformat_minor": 2
}
